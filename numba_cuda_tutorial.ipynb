{
 "cells": [
  {
   "cell_type": "markdown",
   "id": "fdbe7077-f9a4-4219-a025-1f895232dfa3",
   "metadata": {},
   "source": [
    "# Numba CUDA intro\n",
    "\n",
    "> **GITHUB: https://github.com/daniel-vera-g/numba-cuda-intro**"
   ]
  },
  {
   "cell_type": "markdown",
   "id": "aeb18a97",
   "metadata": {},
   "source": [
    "## Table of contents\n",
    "\n",
    "- A crash course over the theory: [CUDA components](#Short-summary-of-CUDA-components)\n",
    "- Use CUDA in with Numba: [CUDA with Numba](#Use-CUDA-with-Numba)\n",
    "\n",
    "**CUDA concepts in Numba:** \n",
    "\n",
    "- What Kernels are and how they work: [Kernels](kernels.ipynb)\n",
    "- How to manage memory when doing operations: [Memory management](memory-management.ipynb)"
   ]
  },
  {
   "cell_type": "markdown",
   "id": "0dbf86f1-0912-430f-8470-47d7a23d3b6d",
   "metadata": {},
   "source": [
    "## Short summary of CUDA components"
   ]
  },
  {
   "cell_type": "markdown",
   "id": "ee107744-bdf5-4761-8202-fb7f92233eed",
   "metadata": {},
   "source": [
    "1. host: CPU\n",
    "2. device: GPU\n",
    "3. host memory: system main memory\n",
    "4. device memory: onboard memory on a GPU card\n",
    "5. kernel: a GPU function launched by the host and executed on the device\n",
    "6. device function: a GPU function executed on the device which can only be called from the device (i.e. from a kernel or another device function)\n",
    "\n",
    "![](http://upload.wikimedia.org/wikipedia/commons/thumb/5/59/CUDA_processing_flow_%28En%29.PNG/450px-CUDA_processing_flow_%28En%29.PNG)"
   ]
  },
  {
   "cell_type": "markdown",
   "id": "285a88fa-dec2-4d23-bac2-d2379903c8e3",
   "metadata": {},
   "source": [
    "### CUDA structure\n",
    "\n",
    "A grid contains blocks with threads:\n",
    "\n",
    "![](https://www.researchgate.net/profile/Omar-Bouattane/publication/321666991/figure/fig2/AS:572931245260800@1513608861931/Figure-2-Execution-model-of-a-CUDA-program-on-NVidias-GPU-Hierarchy-grid-blocks-and.png)"
   ]
  },
  {
   "cell_type": "markdown",
   "id": "bfca1209-4160-43ab-91e7-4b3803ac3ec2",
   "metadata": {},
   "source": [
    "## Use CUDA with Numba"
   ]
  },
  {
   "cell_type": "markdown",
   "id": "39f21384-01fc-4caa-992d-b5e57c5e0f70",
   "metadata": {},
   "source": [
    "**NOTE**: If you don't have a CUDA capable GPU, you can activate the _simulation_ mode by starting Jupyterlab with the `NUMBA_ENABLE_CUDASIM=1` ENV:\n",
    "\n",
    "> `NUMBA_ENABLE_CUDASIM=1 jupyter-lab`"
   ]
  },
  {
   "cell_type": "code",
   "execution_count": 2,
   "id": "578a7fb6-6bb1-49f3-aa8c-3af83c732431",
   "metadata": {
    "tags": []
   },
   "outputs": [
    {
     "name": "stdout",
     "output_type": "stream",
     "text": [
      "<Managed Device 0>\n"
     ]
    }
   ],
   "source": [
    "from numba import cuda\n",
    "print(cuda.gpus) # -> Will probably not work, if you don't have a GPU"
   ]
  },
  {
   "cell_type": "markdown",
   "id": "3e49a2d3",
   "metadata": {},
   "source": [
    "### CUDA python rules"
   ]
  },
  {
   "cell_type": "markdown",
   "id": "c97e9fdd",
   "metadata": {},
   "source": [
    "AS "
   ]
  }
 ],
 "metadata": {
  "kernelspec": {
   "display_name": "Python 3 (ipykernel)",
   "language": "python",
   "name": "python3"
  },
  "language_info": {
   "codemirror_mode": {
    "name": "ipython",
    "version": 3
   },
   "file_extension": ".py",
   "mimetype": "text/x-python",
   "name": "python",
   "nbconvert_exporter": "python",
   "pygments_lexer": "ipython3",
   "version": "3.9.7"
  }
 },
 "nbformat": 4,
 "nbformat_minor": 5
}
