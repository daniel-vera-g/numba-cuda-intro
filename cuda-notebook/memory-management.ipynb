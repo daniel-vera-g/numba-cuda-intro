{
 "cells": [
  {
   "cell_type": "markdown",
   "id": "d2f64d93-97b7-401d-8642-86fbf7e0541d",
   "metadata": {},
   "source": [
    "# Memory management\n",
    "\n",
    "> Use manual memory management to have more efficient code\n",
    "\n",
    "Example using matrix multiplication:\n",
    "\n",
    "See: https://en.wikipedia.org/wiki/Matrix_multiplication\n"
   ]
  },
  {
   "cell_type": "code",
   "execution_count": 8,
   "id": "f6d0482d-2bf0-4e8f-a639-2236345876c8",
   "metadata": {},
   "outputs": [],
   "source": [
    "from numba import cuda\n",
    "import numpy as np\n",
    "\n",
    "@cuda.jit\n",
    "def matmul(inputArr1, inputArr2, outputArr):\n",
    "    \"\"\"\n",
    "    Do a Matrix multiplication: inputArr1 * inputArr2 = outputArr\n",
    "    \"\"\"\n",
    "    # Get a two dimensional grid for calculations\n",
    "    row, column = cuda.grid(2)\n",
    "    \n",
    "    # Check that we're in the boundaries\n",
    "    # & not accessing prohibited memory\n",
    "    if row < outputArr.shape[0] and column < outputArr.shape[1]:\n",
    "        tmp = 0.\n",
    "        for k in range(inputArr1.shape[1]):\n",
    "            tmp += inputArr1[row, k] * inputArr2[k, column]\n",
    "            outputArr[row, column] = tmp"
   ]
  },
  {
   "cell_type": "code",
   "execution_count": 9,
   "id": "f24c35c2-09bf-45d7-91c2-32e225725cc8",
   "metadata": {},
   "outputs": [
    {
     "name": "stdout",
     "output_type": "stream",
     "text": [
      "[[2352. 2352. 2352. 2352. 2352. 2352. 2352. 2352. 2352. 2352. 2352. 2352.\n",
      "  2352. 2352. 2352. 2352.]\n",
      " [2352. 2352. 2352. 2352. 2352. 2352. 2352. 2352. 2352. 2352. 2352. 2352.\n",
      "  2352. 2352. 2352. 2352.]\n",
      " [2352. 2352. 2352. 2352. 2352. 2352. 2352. 2352. 2352. 2352. 2352. 2352.\n",
      "  2352. 2352. 2352. 2352.]\n",
      " [2352. 2352. 2352. 2352. 2352. 2352. 2352. 2352. 2352. 2352. 2352. 2352.\n",
      "  2352. 2352. 2352. 2352.]\n",
      " [2352. 2352. 2352. 2352. 2352. 2352. 2352. 2352. 2352. 2352. 2352. 2352.\n",
      "  2352. 2352. 2352. 2352.]\n",
      " [2352. 2352. 2352. 2352. 2352. 2352. 2352. 2352. 2352. 2352. 2352. 2352.\n",
      "  2352. 2352. 2352. 2352.]\n",
      " [2352. 2352. 2352. 2352. 2352. 2352. 2352. 2352. 2352. 2352. 2352. 2352.\n",
      "  2352. 2352. 2352. 2352.]\n",
      " [2352. 2352. 2352. 2352. 2352. 2352. 2352. 2352. 2352. 2352. 2352. 2352.\n",
      "  2352. 2352. 2352. 2352.]\n",
      " [2352. 2352. 2352. 2352. 2352. 2352. 2352. 2352. 2352. 2352. 2352. 2352.\n",
      "  2352. 2352. 2352. 2352.]\n",
      " [2352. 2352. 2352. 2352. 2352. 2352. 2352. 2352. 2352. 2352. 2352. 2352.\n",
      "  2352. 2352. 2352. 2352.]\n",
      " [2352. 2352. 2352. 2352. 2352. 2352. 2352. 2352. 2352. 2352. 2352. 2352.\n",
      "  2352. 2352. 2352. 2352.]\n",
      " [2352. 2352. 2352. 2352. 2352. 2352. 2352. 2352. 2352. 2352. 2352. 2352.\n",
      "  2352. 2352. 2352. 2352.]]\n"
     ]
    }
   ],
   "source": [
    "import math\n",
    "\n",
    "# Create 2D-Arrays filled with 7 and 8s\n",
    "# NOTE: Row <-> Column or Column <-> Row should be equal size\n",
    "inputArr1 = np.full((12, 42), 7, float)\n",
    "inputArr2 = np.full((42, 16), 8, float)\n",
    "\n",
    "# Copy 2D-Arrays to device aka \"GPU\"\n",
    "inputArr1_global_mem  = cuda.to_device(inputArr1)\n",
    "inputArr2_global_mem  = cuda.to_device(inputArr2)\n",
    "\n",
    "# Allocate mem on device for result\n",
    "# Shape = non-equal size values from above\n",
    "outputArr_global_mem = cuda.device_array((12,16))\n",
    "\n",
    "# TODO how get values about threadsperblock?\n",
    "threads_in_block = (16, 16)\n",
    "blocks_per_grid_x = int(math.ceil(inputArr1.shape[0] / threads_in_block[0]))\n",
    "blocks_per_grid_y = int(math.ceil(inputArr1.shape[1] / threads_in_block[1]))\n",
    "blocks_in_grid = (blocks_per_grid_x, blocks_per_grid_y)\n",
    "\n",
    "matmul[blocks_in_grid, threads_in_block](inputArr1_global_mem, inputArr2_global_mem, outputArr_global_mem)\n",
    "\n",
    "# Copy result back to host aka. CPU\n",
    "outputArr = outputArr_global_mem.copy_to_host()\n",
    "\n",
    "print(outputArr)\n",
    "\n",
    "\n",
    "\n"
   ]
  }
 ],
 "metadata": {
  "kernelspec": {
   "display_name": "Python 3 (ipykernel)",
   "language": "python",
   "name": "python3"
  },
  "language_info": {
   "codemirror_mode": {
    "name": "ipython",
    "version": 3
   },
   "file_extension": ".py",
   "mimetype": "text/x-python",
   "name": "python",
   "nbconvert_exporter": "python",
   "pygments_lexer": "ipython3",
   "version": "3.9.7"
  }
 },
 "nbformat": 4,
 "nbformat_minor": 5
}
